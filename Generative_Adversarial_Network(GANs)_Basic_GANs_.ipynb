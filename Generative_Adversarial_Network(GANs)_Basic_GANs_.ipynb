{
  "nbformat": 4,
  "nbformat_minor": 0,
  "metadata": {
    "colab": {
      "provenance": []
    },
    "kernelspec": {
      "name": "python3",
      "display_name": "Python 3"
    },
    "language_info": {
      "name": "python"
    }
  },
  "cells": [
    {
      "cell_type": "code",
      "execution_count": null,
      "metadata": {
        "colab": {
          "base_uri": "https://localhost:8080/",
          "height": 562
        },
        "id": "UbqOp5XTM7cl",
        "outputId": "9b464ab1-a94b-4469-d0d7-562a5bc5dbe2"
      },
      "outputs": [
        {
          "output_type": "stream",
          "name": "stderr",
          "text": [
            "100%|██████████| 9.91M/9.91M [00:00<00:00, 18.8MB/s]\n",
            "100%|██████████| 28.9k/28.9k [00:00<00:00, 1.69MB/s]\n",
            "100%|██████████| 1.65M/1.65M [00:00<00:00, 12.5MB/s]\n",
            "100%|██████████| 4.54k/4.54k [00:00<00:00, 6.42MB/s]\n"
          ]
        },
        {
          "output_type": "stream",
          "name": "stdout",
          "text": [
            "Epoch 1: D_loss=0.685, G_loss=1.280\n",
            "Epoch 2: D_loss=1.242, G_loss=0.925\n",
            "Epoch 3: D_loss=0.501, G_loss=1.493\n",
            "Epoch 4: D_loss=0.491, G_loss=1.642\n",
            "Epoch 5: D_loss=0.802, G_loss=1.337\n"
          ]
        },
        {
          "output_type": "display_data",
          "data": {
            "text/plain": [
              "<Figure size 640x480 with 1 Axes>"
            ],
            "image/png": "[encoded data removed]"
          },
          "metadata": {}
        }
      ],
      "source": [
        "import torch, torch.nn as nn, torch.optim as optim\n",
        "from torchvision import datasets, transforms\n",
        "from torch.utils.data import DataLoader\n",
        "import matplotlib.pyplot as plt\n",
        "\n",
        "# Data\n",
        "data = DataLoader(datasets.MNIST('.', train=True, download=True,\n",
        "               transform=transforms.Compose([transforms.ToTensor(), transforms.Normalize((0.5,), (0.5,))])),\n",
        "               batch_size=64, shuffle=True)\n",
        "\n",
        "# Generator & Discriminator\n",
        "G = nn.Sequential(nn.Linear(100, 256), nn.ReLU(), nn.Linear(256, 784), nn.Tanh())\n",
        "D = nn.Sequential(nn.Linear(784, 256), nn.LeakyReLU(0.2), nn.Linear(256, 1), nn.Sigmoid())\n",
        "opt_G = optim.Adam(G.parameters(), lr=0.0002)\n",
        "opt_D = optim.Adam(D.parameters(), lr=0.0002)\n",
        "loss = nn.BCELoss()\n",
        "\n",
        "# Train\n",
        "for epoch in range(5):  # few epochs for quick training\n",
        "    for real, _ in data:\n",
        "        real = real.view(-1, 784)\n",
        "        z = torch.randn(real.size(0), 100)\n",
        "        fake = G(z)\n",
        "\n",
        "        # Discriminator\n",
        "        D_real = D(real)\n",
        "        D_fake = D(fake.detach())\n",
        "        loss_D = loss(D_real, torch.ones_like(D_real)) + loss(D_fake, torch.zeros_like(D_fake))\n",
        "        opt_D.zero_grad(); loss_D.backward(); opt_D.step()\n",
        "\n",
        "        # Generator\n",
        "        D_fake = D(fake)\n",
        "        loss_G = loss(D_fake, torch.ones_like(D_fake))\n",
        "        opt_G.zero_grad(); loss_G.backward(); opt_G.step()\n",
        "\n",
        "    print(f\"Epoch {epoch+1}: D_loss={loss_D.item():.3f}, G_loss={loss_G.item():.3f}\")\n",
        "\n",
        "# Generate sample\n",
        "z = torch.randn(1, 100)\n",
        "img = G(z).view(28, 28).detach()\n",
        "plt.imshow(img, cmap='gray'); plt.axis('off'); plt.show()\n"
      ]
    }
  ]
}