{
 "cells": [
  {
   "cell_type": "code",
   "execution_count": null,
   "id": "d1297b2b",
   "metadata": {
    "vscode": {
     "languageId": "plaintext"
    }
   },
   "outputs": [],
   "source": []
  },
  {
   "cell_type": "markdown",
   "id": "7a03a89f",
   "metadata": {},
   "source": [
    "**Lab-2**"
   ]
  },
  {
   "cell_type": "code",
   "execution_count": null,
   "id": "34c7befd",
   "metadata": {
    "vscode": {
     "languageId": "plaintext"
    }
   },
   "outputs": [],
   "source": [
    "import torch\n",
    "import torch.nn as nn\n",
    "import torch.optim as optim\n",
    "from torchvision import datasets, transforms\n",
    "from torch.utils.data import DataLoader\n",
    "import matplotlib.pyplot as plt\n",
    "\n",
    "# ====== Data Preparation ======\n",
    "transform = transforms.ToTensor()\n",
    "train_set = datasets.MNIST(root='./data', train=True, download=True, transform=transform)\n",
    "train_loader = DataLoader(train_set, batch_size=128, shuffle=True)\n",
    "\n",
    "# ====== Add Noise Function ======\n",
    "def add_noise(imgs, noise_factor=0.5):\n",
    "    noisy = imgs + noise_factor * torch.randn_like(imgs)\n",
    "    noisy = torch.clip(noisy, 0., 1.)\n",
    "    return noisy\n",
    "\n",
    "# ====== Denoising Autoencoder Model ======\n",
    "class DenoisingAutoencoder(nn.Module):\n",
    "    def _init_(self):\n",
    "        super()._init_()\n",
    "        self.encoder = nn.Sequential(\n",
    "            nn.Linear(28*28, 128),\n",
    "            nn.ReLU(),\n",
    "            nn.Linear(128, 64)\n",
    "        )\n",
    "        self.decoder = nn.Sequential(\n",
    "            nn.Linear(64, 128),\n",
    "            nn.ReLU(),\n",
    "            nn.Linear(128, 28*28),\n",
    "            nn.Sigmoid()  # output between 0 and 1\n",
    "        )\n",
    "\n",
    "    def forward(self, x):\n",
    "        x = x.view(-1, 28*28)  # Flatten\n",
    "        x = self.encoder(x)\n",
    "        x = self.decoder(x)\n",
    "        return x.view(-1, 1, 28, 28)  # Reshape back to image\n",
    "\n",
    "# ====== Initialize Model, Loss, Optimizer ======\n",
    "model = DenoisingAutoencoder()\n",
    "criterion = nn.MSELoss()\n",
    "optimizer = optim.Adam(model.parameters(), lr=0.001)\n",
    "\n",
    "# ====== Training ======\n",
    "print(\"Training Denoising Autoencoder...\")\n",
    "for epoch in range(5):\n",
    "    for imgs, _ in train_loader:\n",
    "        noisy_imgs = add_noise(imgs)\n",
    "        outputs = model(noisy_imgs)\n",
    "        loss = criterion(outputs, imgs)\n",
    "\n",
    "        optimizer.zero_grad()\n",
    "        loss.backward()\n",
    "        optimizer.step()\n",
    "    print(f\"Epoch {epoch+1}, Loss: {loss.item():.4f}\")\n",
    "\n",
    "# ====== Visualize Results ======\n",
    "test_imgs, _ = next(iter(train_loader))\n",
    "noisy_test = add_noise(test_imgs)\n",
    "\n",
    "with torch.no_grad():\n",
    "    reconstructed = model(noisy_test)\n",
    "\n",
    "# Display Original, Noisy, and Reconstructed Images\n",
    "for i in range(5):\n",
    "    plt.figure(figsize=(9,3))\n",
    "    # Original\n",
    "    plt.subplot(1, 3, 1)\n",
    "    plt.imshow(test_imgs[i].squeeze().numpy(), cmap='gray')\n",
    "    plt.title(\"Original\")\n",
    "    plt.axis('off')\n",
    "\n",
    "    # Noisy\n",
    "    plt.subplot(1, 3, 2)\n",
    "    plt.imshow(noisy_test[i].squeeze().numpy(), cmap='gray')\n",
    "    plt.title(\"Noisy\")\n",
    "    plt.axis('off')\n",
    "\n",
    "    # Reconstructed\n",
    "    plt.subplot(1, 3, 3)\n",
    "    plt.imshow(reconstructed[i].squeeze().numpy(), cmap='gray')\n",
    "    plt.title(\"Denoised\")\n",
    "    plt.axis('off')\n",
    "\n",
    "    plt.show()"
   ]
  },
  {
   "cell_type": "code",
   "execution_count": null,
   "id": "260963c2",
   "metadata": {
    "vscode": {
     "languageId": "plaintext"
    }
   },
   "outputs": [],
   "source": []
  }
 ],
 "metadata": {
  "language_info": {
   "name": "python"
  }
 },
 "nbformat": 4,
 "nbformat_minor": 5
}
